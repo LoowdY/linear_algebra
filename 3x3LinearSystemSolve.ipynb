{
  "nbformat": 4,
  "nbformat_minor": 0,
  "metadata": {
    "colab": {
      "name": "Untitled21.ipynb",
      "provenance": [],
      "authorship_tag": "ABX9TyOyfxK1UW+s9OMxJ15e+a2C",
      "include_colab_link": true
    },
    "kernelspec": {
      "name": "python3",
      "display_name": "Python 3"
    },
    "language_info": {
      "name": "python"
    }
  },
  "cells": [
    {
      "cell_type": "markdown",
      "metadata": {
        "id": "view-in-github",
        "colab_type": "text"
      },
      "source": [
        "<a href=\"https://colab.research.google.com/github/LoowdY/linear_algebra/blob/main/3x3LinearSystemSolve.ipynb\" target=\"_parent\"><img src=\"https://colab.research.google.com/assets/colab-badge.svg\" alt=\"Open In Colab\"/></a>"
      ]
    },
    {
      "cell_type": "code",
      "execution_count": 2,
      "metadata": {
        "colab": {
          "base_uri": "https://localhost:8080/"
        },
        "id": "Ri1DEsdqJeCT",
        "outputId": "b8a9f440-3380-4791-fac2-5bbf5d41f24d"
      },
      "outputs": [
        {
          "output_type": "stream",
          "name": "stdout",
          "text": [
            "Looking in indexes: https://pypi.org/simple, https://us-python.pkg.dev/colab-wheels/public/simple/\n",
            "Collecting vectorplot\n",
            "  Downloading vectorplot-0.0.27.tar.gz (3.3 kB)\n",
            "Requirement already satisfied: numpy in /usr/local/lib/python3.7/dist-packages (from vectorplot) (1.21.6)\n",
            "Requirement already satisfied: matplotlib in /usr/local/lib/python3.7/dist-packages (from vectorplot) (3.2.2)\n",
            "Requirement already satisfied: cycler>=0.10 in /usr/local/lib/python3.7/dist-packages (from matplotlib->vectorplot) (0.11.0)\n",
            "Requirement already satisfied: python-dateutil>=2.1 in /usr/local/lib/python3.7/dist-packages (from matplotlib->vectorplot) (2.8.2)\n",
            "Requirement already satisfied: kiwisolver>=1.0.1 in /usr/local/lib/python3.7/dist-packages (from matplotlib->vectorplot) (1.4.3)\n",
            "Requirement already satisfied: pyparsing!=2.0.4,!=2.1.2,!=2.1.6,>=2.0.1 in /usr/local/lib/python3.7/dist-packages (from matplotlib->vectorplot) (3.0.9)\n",
            "Requirement already satisfied: typing-extensions in /usr/local/lib/python3.7/dist-packages (from kiwisolver>=1.0.1->matplotlib->vectorplot) (4.1.1)\n",
            "Requirement already satisfied: six>=1.5 in /usr/local/lib/python3.7/dist-packages (from python-dateutil>=2.1->matplotlib->vectorplot) (1.15.0)\n",
            "Building wheels for collected packages: vectorplot\n",
            "  Building wheel for vectorplot (setup.py) ... \u001b[?25l\u001b[?25hdone\n",
            "  Created wheel for vectorplot: filename=vectorplot-0.0.27-py3-none-any.whl size=3412 sha256=bc587dcaaa6d0ec2191f23174f2c2d68343d1eae7ffb454bd4bf6abdea4242df\n",
            "  Stored in directory: /root/.cache/pip/wheels/cf/e1/4f/095e7687610e3dd4a2b762b3d7aefa39d11c4004ab18449ef5\n",
            "Successfully built vectorplot\n",
            "Installing collected packages: vectorplot\n",
            "Successfully installed vectorplot-0.0.27\n"
          ]
        }
      ],
      "source": [
        "pip install vectorplot"
      ]
    },
    {
      "cell_type": "code",
      "source": [
        "import numpy as np"
      ],
      "metadata": {
        "id": "F3sOv51iJejO"
      },
      "execution_count": 3,
      "outputs": []
    },
    {
      "cell_type": "code",
      "source": [
        "A=np.array([[2,1,1],[1,1,1],[1,2,1]])\n",
        "B=np.array([7,6,8])"
      ],
      "metadata": {
        "id": "8TsEG6hiJelm"
      },
      "execution_count": 4,
      "outputs": []
    },
    {
      "cell_type": "code",
      "source": [
        "X=np.linalg.solve(A,B)\n",
        "print(X)"
      ],
      "metadata": {
        "id": "BPMniuDqJ4BI",
        "outputId": "b61948ac-cc41-4d08-ee85-796197c3c24f",
        "colab": {
          "base_uri": "https://localhost:8080/"
        }
      },
      "execution_count": 5,
      "outputs": [
        {
          "output_type": "stream",
          "name": "stdout",
          "text": [
            "[1. 2. 3.]\n"
          ]
        }
      ]
    }
  ]
}