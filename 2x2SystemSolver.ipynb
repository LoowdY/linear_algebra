{
  "nbformat": 4,
  "nbformat_minor": 0,
  "metadata": {
    "colab": {
      "name": "Untitled20.ipynb",
      "provenance": [],
      "authorship_tag": "ABX9TyMB6v7jc+Rwgx+kgQZokXEt",
      "include_colab_link": true
    },
    "kernelspec": {
      "name": "python3",
      "display_name": "Python 3"
    },
    "language_info": {
      "name": "python"
    }
  },
  "cells": [
    {
      "cell_type": "markdown",
      "metadata": {
        "id": "view-in-github",
        "colab_type": "text"
      },
      "source": [
        "<a href=\"https://colab.research.google.com/github/LoowdY/linear_algebra/blob/main/2x2SystemSolver.ipynb\" target=\"_parent\"><img src=\"https://colab.research.google.com/assets/colab-badge.svg\" alt=\"Open In Colab\"/></a>"
      ]
    },
    {
      "cell_type": "code",
      "execution_count": null,
      "metadata": {
        "colab": {
          "base_uri": "https://localhost:8080/"
        },
        "id": "7HcITYwjCd8v",
        "outputId": "fac80b4b-5c7c-4f9d-9d09-69379e91551a"
      },
      "outputs": [
        {
          "output_type": "stream",
          "name": "stdout",
          "text": [
            "Looking in indexes: https://pypi.org/simple, https://us-python.pkg.dev/colab-wheels/public/simple/\n",
            "Collecting vectorplot\n",
            "  Downloading vectorplot-0.0.27.tar.gz (3.3 kB)\n",
            "Requirement already satisfied: numpy in /usr/local/lib/python3.7/dist-packages (from vectorplot) (1.21.6)\n",
            "Requirement already satisfied: matplotlib in /usr/local/lib/python3.7/dist-packages (from vectorplot) (3.2.2)\n",
            "Requirement already satisfied: pyparsing!=2.0.4,!=2.1.2,!=2.1.6,>=2.0.1 in /usr/local/lib/python3.7/dist-packages (from matplotlib->vectorplot) (3.0.9)\n",
            "Requirement already satisfied: kiwisolver>=1.0.1 in /usr/local/lib/python3.7/dist-packages (from matplotlib->vectorplot) (1.4.2)\n",
            "Requirement already satisfied: cycler>=0.10 in /usr/local/lib/python3.7/dist-packages (from matplotlib->vectorplot) (0.11.0)\n",
            "Requirement already satisfied: python-dateutil>=2.1 in /usr/local/lib/python3.7/dist-packages (from matplotlib->vectorplot) (2.8.2)\n",
            "Requirement already satisfied: typing-extensions in /usr/local/lib/python3.7/dist-packages (from kiwisolver>=1.0.1->matplotlib->vectorplot) (4.2.0)\n",
            "Requirement already satisfied: six>=1.5 in /usr/local/lib/python3.7/dist-packages (from python-dateutil>=2.1->matplotlib->vectorplot) (1.15.0)\n",
            "Building wheels for collected packages: vectorplot\n",
            "  Building wheel for vectorplot (setup.py) ... \u001b[?25l\u001b[?25hdone\n",
            "  Created wheel for vectorplot: filename=vectorplot-0.0.27-py3-none-any.whl size=3412 sha256=1451c05ab7c70ff78f5ad4da75a4e6ff907a8c60c493380fcd75aa53175b4b07\n",
            "  Stored in directory: /root/.cache/pip/wheels/cf/e1/4f/095e7687610e3dd4a2b762b3d7aefa39d11c4004ab18449ef5\n",
            "Successfully built vectorplot\n",
            "Installing collected packages: vectorplot\n",
            "Successfully installed vectorplot-0.0.27\n"
          ]
        }
      ],
      "source": [
        "pip install vectorplot "
      ]
    },
    {
      "cell_type": "code",
      "source": [
        "import numpy as np"
      ],
      "metadata": {
        "id": "9Out-nLKCiNc"
      },
      "execution_count": null,
      "outputs": []
    },
    {
      "cell_type": "code",
      "source": [
        "A=np.array([[2,3],[-4,5]])\n",
        "B=np.array([1,9])"
      ],
      "metadata": {
        "id": "1SxL4m59CiP2"
      },
      "execution_count": null,
      "outputs": []
    },
    {
      "cell_type": "code",
      "source": [
        "X=np.linalg.solve(A,B)\n",
        "print(X)"
      ],
      "metadata": {
        "colab": {
          "base_uri": "https://localhost:8080/"
        },
        "id": "R_u6A5_zCiSv",
        "outputId": "dd8acc7f-680c-47d3-d6fd-471ed2be8f43"
      },
      "execution_count": null,
      "outputs": [
        {
          "output_type": "stream",
          "name": "stdout",
          "text": [
            "[-1.  1.]\n"
          ]
        }
      ]
    },
    {
      "cell_type": "code",
      "source": [
        ""
      ],
      "metadata": {
        "id": "pb8L2lpUCiU5"
      },
      "execution_count": null,
      "outputs": []
    }
  ]
}