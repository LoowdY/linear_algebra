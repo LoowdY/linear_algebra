{
  "nbformat": 4,
  "nbformat_minor": 0,
  "metadata": {
    "colab": {
      "name": "Untitled23.ipynb",
      "provenance": [],
      "authorship_tag": "ABX9TyOHTgCkPk1c80W11PtaiH1l",
      "include_colab_link": true
    },
    "kernelspec": {
      "name": "python3",
      "display_name": "Python 3"
    },
    "language_info": {
      "name": "python"
    }
  },
  "cells": [
    {
      "cell_type": "markdown",
      "metadata": {
        "id": "view-in-github",
        "colab_type": "text"
      },
      "source": [
        "<a href=\"https://colab.research.google.com/github/LoowdY/linear_algebra/blob/main/inverse_matrix.ipynb\" target=\"_parent\"><img src=\"https://colab.research.google.com/assets/colab-badge.svg\" alt=\"Open In Colab\"/></a>"
      ]
    },
    {
      "cell_type": "code",
      "execution_count": null,
      "metadata": {
        "colab": {
          "base_uri": "https://localhost:8080/"
        },
        "id": "rvrFSK2lK0d_",
        "outputId": "47f1f6c2-f91f-47eb-cf79-1ce4d8e57d09"
      },
      "outputs": [
        {
          "output_type": "stream",
          "name": "stdout",
          "text": [
            "Looking in indexes: https://pypi.org/simple, https://us-python.pkg.dev/colab-wheels/public/simple/\n",
            "Collecting vectorplot\n",
            "  Downloading vectorplot-0.0.27.tar.gz (3.3 kB)\n",
            "Requirement already satisfied: numpy in /usr/local/lib/python3.7/dist-packages (from vectorplot) (1.21.6)\n",
            "Requirement already satisfied: matplotlib in /usr/local/lib/python3.7/dist-packages (from vectorplot) (3.2.2)\n",
            "Requirement already satisfied: pyparsing!=2.0.4,!=2.1.2,!=2.1.6,>=2.0.1 in /usr/local/lib/python3.7/dist-packages (from matplotlib->vectorplot) (3.0.9)\n",
            "Requirement already satisfied: python-dateutil>=2.1 in /usr/local/lib/python3.7/dist-packages (from matplotlib->vectorplot) (2.8.2)\n",
            "Requirement already satisfied: kiwisolver>=1.0.1 in /usr/local/lib/python3.7/dist-packages (from matplotlib->vectorplot) (1.4.2)\n",
            "Requirement already satisfied: cycler>=0.10 in /usr/local/lib/python3.7/dist-packages (from matplotlib->vectorplot) (0.11.0)\n",
            "Requirement already satisfied: typing-extensions in /usr/local/lib/python3.7/dist-packages (from kiwisolver>=1.0.1->matplotlib->vectorplot) (4.2.0)\n",
            "Requirement already satisfied: six>=1.5 in /usr/local/lib/python3.7/dist-packages (from python-dateutil>=2.1->matplotlib->vectorplot) (1.15.0)\n",
            "Building wheels for collected packages: vectorplot\n",
            "  Building wheel for vectorplot (setup.py) ... \u001b[?25l\u001b[?25hdone\n",
            "  Created wheel for vectorplot: filename=vectorplot-0.0.27-py3-none-any.whl size=3412 sha256=4ec0e4742eb16c081c11e8ff17385abbfe1f500400ae9686b0b29eb0b6997c78\n",
            "  Stored in directory: /root/.cache/pip/wheels/cf/e1/4f/095e7687610e3dd4a2b762b3d7aefa39d11c4004ab18449ef5\n",
            "Successfully built vectorplot\n",
            "Installing collected packages: vectorplot\n",
            "Successfully installed vectorplot-0.0.27\n"
          ]
        }
      ],
      "source": [
        "pip install vectorplot"
      ]
    },
    {
      "cell_type": "code",
      "source": [
        "import numpy as np"
      ],
      "metadata": {
        "id": "SgMUAENOLEuX"
      },
      "execution_count": null,
      "outputs": []
    },
    {
      "cell_type": "code",
      "source": [
        "A=np.array([[2,4],[1,5]])\n",
        "I=np.linalg.inv(A)\n",
        "print(I)"
      ],
      "metadata": {
        "colab": {
          "base_uri": "https://localhost:8080/"
        },
        "id": "9TgsVNsKLEzP",
        "outputId": "22d4c4b4-6d5a-4df8-8371-d7c2067d5fc9"
      },
      "execution_count": null,
      "outputs": [
        {
          "output_type": "stream",
          "name": "stdout",
          "text": [
            "[[ 0.83333333 -0.66666667]\n",
            " [-0.16666667  0.33333333]]\n"
          ]
        }
      ]
    }
  ]
}